{
 "cells": [
  {
   "cell_type": "code",
   "execution_count": null,
   "metadata": {},
   "outputs": [],
   "source": [
    "!pip install --upgrade google-api-python-client\n",
    "!pip3 install --upgrade oauth2client\n",
    "!pip install connect\n",
    "!pip install functions"
   ]
  },
  {
   "cell_type": "code",
   "execution_count": 56,
   "metadata": {},
   "outputs": [
    {
     "name": "stdout",
     "output_type": "stream",
     "text": [
      "Collecting joblib\n",
      "  Downloading joblib-1.2.0-py3-none-any.whl (297 kB)\n",
      "     -------------------------------------- 298.0/298.0 kB 4.6 MB/s eta 0:00:00\n",
      "Installing collected packages: joblib\n",
      "Successfully installed joblib-1.2.0\n"
     ]
    },
    {
     "name": "stderr",
     "output_type": "stream",
     "text": [
      "\n",
      "[notice] A new release of pip available: 22.3.1 -> 23.0.1\n",
      "[notice] To update, run: python.exe -m pip install --upgrade pip\n"
     ]
    }
   ],
   "source": [
    "!pip install joblib"
   ]
  },
  {
   "cell_type": "code",
   "execution_count": 1,
   "metadata": {},
   "outputs": [],
   "source": [
    "from googleapiclient.discovery import build\n",
    "from oauth2client.service_account import ServiceAccountCredentials\n",
    "import connect\n",
    "import pandas as pd\n",
    "import joblib"
   ]
  },
  {
   "cell_type": "code",
   "execution_count": 61,
   "metadata": {},
   "outputs": [
    {
     "name": "stderr",
     "output_type": "stream",
     "text": [
      "c:\\Users\\cosemti\\.virtualenvs\\ALGO-Smeg-tpBFOsly\\lib\\site-packages\\openpyxl\\styles\\stylesheet.py:226: UserWarning: Workbook contains no default style, apply openpyxl's default\n",
      "  warn(\"Workbook contains no default style, apply openpyxl's default\")\n",
      "c:\\Users\\cosemti\\.virtualenvs\\ALGO-Smeg-tpBFOsly\\lib\\site-packages\\openpyxl\\styles\\stylesheet.py:226: UserWarning: Workbook contains no default style, apply openpyxl's default\n",
      "  warn(\"Workbook contains no default style, apply openpyxl's default\")\n"
     ]
    }
   ],
   "source": [
    "ids = pd.read_excel(\"../../data/external/Gebruikers-verkenner 20220901-20230219 rij 1-5000.xlsx\", sheet_name=1, dtype=\"str\")[\"Klant-ID\"]\n",
    "ids = pd.concat([ids, pd.read_excel(\"../../data/external/Gebruikers-verkenner 20220901-20230219 rij 5001-10000.xlsx\", sheet_name=1, dtype=\"str\")[\"Klant-ID\"]]).reset_index(drop=True)"
   ]
  },
  {
   "cell_type": "code",
   "execution_count": 2,
   "metadata": {},
   "outputs": [],
   "source": [
    "SCOPES = ['https://www.googleapis.com/auth/analytics'] #auth/analytics.readonly']\n",
    "KEY_FILE_LOCATION = '../../GA_API_key.json'\n",
    "VIEW_ID = '107251456'"
   ]
  },
  {
   "cell_type": "code",
   "execution_count": 3,
   "metadata": {},
   "outputs": [],
   "source": [
    "credentials = ServiceAccountCredentials.from_json_keyfile_name(KEY_FILE_LOCATION, SCOPES)\n",
    "service = build('analyticsreporting', 'v4', credentials=credentials)"
   ]
  },
  {
   "cell_type": "code",
   "execution_count": 52,
   "metadata": {},
   "outputs": [],
   "source": [
    "data_raw = []"
   ]
  },
  {
   "cell_type": "code",
   "execution_count": 53,
   "metadata": {},
   "outputs": [
    {
     "ename": "HttpError",
     "evalue": "<HttpError 503 when requesting https://analyticsreporting.googleapis.com/v4/userActivity:search?alt=json returned \"The service is currently unavailable.\". Details: \"The service is currently unavailable.\">",
     "output_type": "error",
     "traceback": [
      "\u001b[1;31m---------------------------------------------------------------------------\u001b[0m",
      "\u001b[1;31mHttpError\u001b[0m                                 Traceback (most recent call last)",
      "Cell \u001b[1;32mIn[53], line 3\u001b[0m\n\u001b[0;32m      1\u001b[0m \u001b[39mfor\u001b[39;00m i \u001b[39min\u001b[39;00m \u001b[39mrange\u001b[39m(\u001b[39m0\u001b[39m, \u001b[39mlen\u001b[39m(ids)):\n\u001b[0;32m      2\u001b[0m     \u001b[39mid\u001b[39m \u001b[39m=\u001b[39m ids[i]\n\u001b[1;32m----> 3\u001b[0m     data \u001b[39m=\u001b[39m service\u001b[39m.\u001b[39;49muserActivity()\u001b[39m.\u001b[39;49msearch(\n\u001b[0;32m      4\u001b[0m         body\u001b[39m=\u001b[39;49m{\n\u001b[0;32m      5\u001b[0m             \u001b[39m'\u001b[39;49m\u001b[39mviewId\u001b[39;49m\u001b[39m'\u001b[39;49m: VIEW_ID,\n\u001b[0;32m      6\u001b[0m             \u001b[39m'\u001b[39;49m\u001b[39mdateRange\u001b[39;49m\u001b[39m'\u001b[39;49m: {\n\u001b[0;32m      7\u001b[0m                 \u001b[39m\"\u001b[39;49m\u001b[39mstartDate\u001b[39;49m\u001b[39m\"\u001b[39;49m: \u001b[39m\"\u001b[39;49m\u001b[39m2022-09-01\u001b[39;49m\u001b[39m\"\u001b[39;49m,\n\u001b[0;32m      8\u001b[0m                 \u001b[39m\"\u001b[39;49m\u001b[39mendDate\u001b[39;49m\u001b[39m\"\u001b[39;49m: \u001b[39m\"\u001b[39;49m\u001b[39m2023-02-19\u001b[39;49m\u001b[39m\"\u001b[39;49m,\n\u001b[0;32m      9\u001b[0m             },\n\u001b[0;32m     10\u001b[0m             \u001b[39m'\u001b[39;49m\u001b[39muser\u001b[39;49m\u001b[39m'\u001b[39;49m: {\n\u001b[0;32m     11\u001b[0m                     \u001b[39m\"\u001b[39;49m\u001b[39mtype\u001b[39;49m\u001b[39m\"\u001b[39;49m: \u001b[39m\"\u001b[39;49m\u001b[39mCLIENT_ID\u001b[39;49m\u001b[39m\"\u001b[39;49m,\n\u001b[0;32m     12\u001b[0m                     \u001b[39m\"\u001b[39;49m\u001b[39muserId\u001b[39;49m\u001b[39m\"\u001b[39;49m: \u001b[39mid\u001b[39;49m\n\u001b[0;32m     13\u001b[0m                 }\n\u001b[0;32m     14\u001b[0m         }\n\u001b[0;32m     15\u001b[0m     )\u001b[39m.\u001b[39;49mexecute()\n\u001b[0;32m     17\u001b[0m     data_raw\u001b[39m.\u001b[39mappend({\u001b[39mid\u001b[39m: data})\n",
      "File \u001b[1;32mc:\\Users\\cosemti\\.virtualenvs\\ALGO-Smeg-tpBFOsly\\lib\\site-packages\\googleapiclient\\_helpers.py:130\u001b[0m, in \u001b[0;36mpositional.<locals>.positional_decorator.<locals>.positional_wrapper\u001b[1;34m(*args, **kwargs)\u001b[0m\n\u001b[0;32m    128\u001b[0m     \u001b[39melif\u001b[39;00m positional_parameters_enforcement \u001b[39m==\u001b[39m POSITIONAL_WARNING:\n\u001b[0;32m    129\u001b[0m         logger\u001b[39m.\u001b[39mwarning(message)\n\u001b[1;32m--> 130\u001b[0m \u001b[39mreturn\u001b[39;00m wrapped(\u001b[39m*\u001b[39margs, \u001b[39m*\u001b[39m\u001b[39m*\u001b[39mkwargs)\n",
      "File \u001b[1;32mc:\\Users\\cosemti\\.virtualenvs\\ALGO-Smeg-tpBFOsly\\lib\\site-packages\\googleapiclient\\http.py:938\u001b[0m, in \u001b[0;36mHttpRequest.execute\u001b[1;34m(self, http, num_retries)\u001b[0m\n\u001b[0;32m    936\u001b[0m     callback(resp)\n\u001b[0;32m    937\u001b[0m \u001b[39mif\u001b[39;00m resp\u001b[39m.\u001b[39mstatus \u001b[39m>\u001b[39m\u001b[39m=\u001b[39m \u001b[39m300\u001b[39m:\n\u001b[1;32m--> 938\u001b[0m     \u001b[39mraise\u001b[39;00m HttpError(resp, content, uri\u001b[39m=\u001b[39m\u001b[39mself\u001b[39m\u001b[39m.\u001b[39muri)\n\u001b[0;32m    939\u001b[0m \u001b[39mreturn\u001b[39;00m \u001b[39mself\u001b[39m\u001b[39m.\u001b[39mpostproc(resp, content)\n",
      "\u001b[1;31mHttpError\u001b[0m: <HttpError 503 when requesting https://analyticsreporting.googleapis.com/v4/userActivity:search?alt=json returned \"The service is currently unavailable.\". Details: \"The service is currently unavailable.\">"
     ]
    }
   ],
   "source": [
    "for i in range(0, len(ids)):\n",
    "    id = ids[i]\n",
    "    data = service.userActivity().search(\n",
    "        body={\n",
    "            'viewId': VIEW_ID,\n",
    "            'dateRange': {\n",
    "                \"startDate\": \"2022-09-01\",\n",
    "                \"endDate\": \"2023-02-19\",\n",
    "            },\n",
    "            'user': {\n",
    "                    \"type\": \"CLIENT_ID\",\n",
    "                    \"userId\": id\n",
    "                }\n",
    "        }\n",
    "    ).execute()\n",
    "\n",
    "    data_raw.append({id: data})\n"
   ]
  },
  {
   "cell_type": "code",
   "execution_count": 54,
   "metadata": {},
   "outputs": [
    {
     "ename": "HttpError",
     "evalue": "<HttpError 400 when requesting https://analyticsreporting.googleapis.com/v4/userActivity:search?alt=json returned \"Invalid value at 'user.user_id' (TYPE_STRING), 1140552051.1675189\". Details: \"[{'@type': 'type.googleapis.com/google.rpc.BadRequest', 'fieldViolations': [{'field': 'user.user_id', 'description': \"Invalid value at 'user.user_id' (TYPE_STRING), 1140552051.1675189\"}]}]\">",
     "output_type": "error",
     "traceback": [
      "\u001b[1;31m---------------------------------------------------------------------------\u001b[0m",
      "\u001b[1;31mHttpError\u001b[0m                                 Traceback (most recent call last)",
      "Cell \u001b[1;32mIn[54], line 3\u001b[0m\n\u001b[0;32m      1\u001b[0m \u001b[39mfor\u001b[39;00m i \u001b[39min\u001b[39;00m \u001b[39mrange\u001b[39m(\u001b[39m743\u001b[39m, \u001b[39mlen\u001b[39m(ids)):\n\u001b[0;32m      2\u001b[0m     \u001b[39mid\u001b[39m \u001b[39m=\u001b[39m ids[i]\n\u001b[1;32m----> 3\u001b[0m     data \u001b[39m=\u001b[39m service\u001b[39m.\u001b[39;49muserActivity()\u001b[39m.\u001b[39;49msearch(\n\u001b[0;32m      4\u001b[0m         body\u001b[39m=\u001b[39;49m{\n\u001b[0;32m      5\u001b[0m             \u001b[39m'\u001b[39;49m\u001b[39mviewId\u001b[39;49m\u001b[39m'\u001b[39;49m: VIEW_ID,\n\u001b[0;32m      6\u001b[0m             \u001b[39m'\u001b[39;49m\u001b[39mdateRange\u001b[39;49m\u001b[39m'\u001b[39;49m: {\n\u001b[0;32m      7\u001b[0m                 \u001b[39m\"\u001b[39;49m\u001b[39mstartDate\u001b[39;49m\u001b[39m\"\u001b[39;49m: \u001b[39m\"\u001b[39;49m\u001b[39m2022-09-01\u001b[39;49m\u001b[39m\"\u001b[39;49m,\n\u001b[0;32m      8\u001b[0m                 \u001b[39m\"\u001b[39;49m\u001b[39mendDate\u001b[39;49m\u001b[39m\"\u001b[39;49m: \u001b[39m\"\u001b[39;49m\u001b[39m2023-02-19\u001b[39;49m\u001b[39m\"\u001b[39;49m,\n\u001b[0;32m      9\u001b[0m             },\n\u001b[0;32m     10\u001b[0m             \u001b[39m'\u001b[39;49m\u001b[39muser\u001b[39;49m\u001b[39m'\u001b[39;49m: {\n\u001b[0;32m     11\u001b[0m                     \u001b[39m\"\u001b[39;49m\u001b[39mtype\u001b[39;49m\u001b[39m\"\u001b[39;49m: \u001b[39m\"\u001b[39;49m\u001b[39mCLIENT_ID\u001b[39;49m\u001b[39m\"\u001b[39;49m,\n\u001b[0;32m     12\u001b[0m                     \u001b[39m\"\u001b[39;49m\u001b[39muserId\u001b[39;49m\u001b[39m\"\u001b[39;49m: \u001b[39mid\u001b[39;49m\n\u001b[0;32m     13\u001b[0m                 }\n\u001b[0;32m     14\u001b[0m         }\n\u001b[0;32m     15\u001b[0m     )\u001b[39m.\u001b[39;49mexecute()\n\u001b[0;32m     17\u001b[0m     data_raw\u001b[39m.\u001b[39mappend({\u001b[39mid\u001b[39m: data})\n",
      "File \u001b[1;32mc:\\Users\\cosemti\\.virtualenvs\\ALGO-Smeg-tpBFOsly\\lib\\site-packages\\googleapiclient\\_helpers.py:130\u001b[0m, in \u001b[0;36mpositional.<locals>.positional_decorator.<locals>.positional_wrapper\u001b[1;34m(*args, **kwargs)\u001b[0m\n\u001b[0;32m    128\u001b[0m     \u001b[39melif\u001b[39;00m positional_parameters_enforcement \u001b[39m==\u001b[39m POSITIONAL_WARNING:\n\u001b[0;32m    129\u001b[0m         logger\u001b[39m.\u001b[39mwarning(message)\n\u001b[1;32m--> 130\u001b[0m \u001b[39mreturn\u001b[39;00m wrapped(\u001b[39m*\u001b[39margs, \u001b[39m*\u001b[39m\u001b[39m*\u001b[39mkwargs)\n",
      "File \u001b[1;32mc:\\Users\\cosemti\\.virtualenvs\\ALGO-Smeg-tpBFOsly\\lib\\site-packages\\googleapiclient\\http.py:938\u001b[0m, in \u001b[0;36mHttpRequest.execute\u001b[1;34m(self, http, num_retries)\u001b[0m\n\u001b[0;32m    936\u001b[0m     callback(resp)\n\u001b[0;32m    937\u001b[0m \u001b[39mif\u001b[39;00m resp\u001b[39m.\u001b[39mstatus \u001b[39m>\u001b[39m\u001b[39m=\u001b[39m \u001b[39m300\u001b[39m:\n\u001b[1;32m--> 938\u001b[0m     \u001b[39mraise\u001b[39;00m HttpError(resp, content, uri\u001b[39m=\u001b[39m\u001b[39mself\u001b[39m\u001b[39m.\u001b[39muri)\n\u001b[0;32m    939\u001b[0m \u001b[39mreturn\u001b[39;00m \u001b[39mself\u001b[39m\u001b[39m.\u001b[39mpostproc(resp, content)\n",
      "\u001b[1;31mHttpError\u001b[0m: <HttpError 400 when requesting https://analyticsreporting.googleapis.com/v4/userActivity:search?alt=json returned \"Invalid value at 'user.user_id' (TYPE_STRING), 1140552051.1675189\". Details: \"[{'@type': 'type.googleapis.com/google.rpc.BadRequest', 'fieldViolations': [{'field': 'user.user_id', 'description': \"Invalid value at 'user.user_id' (TYPE_STRING), 1140552051.1675189\"}]}]\">"
     ]
    }
   ],
   "source": [
    "for i in range(743, len(ids)):\n",
    "    id = ids[i]\n",
    "    data = service.userActivity().search(\n",
    "        body={\n",
    "            'viewId': VIEW_ID,\n",
    "            'dateRange': {\n",
    "                \"startDate\": \"2022-09-01\",\n",
    "                \"endDate\": \"2023-02-19\",\n",
    "            },\n",
    "            'user': {\n",
    "                    \"type\": \"CLIENT_ID\",\n",
    "                    \"userId\": id\n",
    "                }\n",
    "        }\n",
    "    ).execute()\n",
    "\n",
    "    data_raw.append({id: data})"
   ]
  },
  {
   "cell_type": "code",
   "execution_count": 62,
   "metadata": {},
   "outputs": [
    {
     "ename": "HttpError",
     "evalue": "<HttpError 503 when requesting https://analyticsreporting.googleapis.com/v4/userActivity:search?alt=json returned \"The service is currently unavailable.\". Details: \"The service is currently unavailable.\">",
     "output_type": "error",
     "traceback": [
      "\u001b[1;31m---------------------------------------------------------------------------\u001b[0m",
      "\u001b[1;31mHttpError\u001b[0m                                 Traceback (most recent call last)",
      "Cell \u001b[1;32mIn[62], line 3\u001b[0m\n\u001b[0;32m      1\u001b[0m \u001b[39mfor\u001b[39;00m i \u001b[39min\u001b[39;00m \u001b[39mrange\u001b[39m(\u001b[39m4999\u001b[39m, \u001b[39mlen\u001b[39m(ids)):\n\u001b[0;32m      2\u001b[0m     \u001b[39mid\u001b[39m \u001b[39m=\u001b[39m ids[i]\n\u001b[1;32m----> 3\u001b[0m     data \u001b[39m=\u001b[39m service\u001b[39m.\u001b[39;49muserActivity()\u001b[39m.\u001b[39;49msearch(\n\u001b[0;32m      4\u001b[0m         body\u001b[39m=\u001b[39;49m{\n\u001b[0;32m      5\u001b[0m             \u001b[39m'\u001b[39;49m\u001b[39mviewId\u001b[39;49m\u001b[39m'\u001b[39;49m: VIEW_ID,\n\u001b[0;32m      6\u001b[0m             \u001b[39m'\u001b[39;49m\u001b[39mdateRange\u001b[39;49m\u001b[39m'\u001b[39;49m: {\n\u001b[0;32m      7\u001b[0m                 \u001b[39m\"\u001b[39;49m\u001b[39mstartDate\u001b[39;49m\u001b[39m\"\u001b[39;49m: \u001b[39m\"\u001b[39;49m\u001b[39m2022-09-01\u001b[39;49m\u001b[39m\"\u001b[39;49m,\n\u001b[0;32m      8\u001b[0m                 \u001b[39m\"\u001b[39;49m\u001b[39mendDate\u001b[39;49m\u001b[39m\"\u001b[39;49m: \u001b[39m\"\u001b[39;49m\u001b[39m2023-02-19\u001b[39;49m\u001b[39m\"\u001b[39;49m,\n\u001b[0;32m      9\u001b[0m             },\n\u001b[0;32m     10\u001b[0m             \u001b[39m'\u001b[39;49m\u001b[39muser\u001b[39;49m\u001b[39m'\u001b[39;49m: {\n\u001b[0;32m     11\u001b[0m                     \u001b[39m\"\u001b[39;49m\u001b[39mtype\u001b[39;49m\u001b[39m\"\u001b[39;49m: \u001b[39m\"\u001b[39;49m\u001b[39mCLIENT_ID\u001b[39;49m\u001b[39m\"\u001b[39;49m,\n\u001b[0;32m     12\u001b[0m                     \u001b[39m\"\u001b[39;49m\u001b[39muserId\u001b[39;49m\u001b[39m\"\u001b[39;49m: \u001b[39mid\u001b[39;49m\n\u001b[0;32m     13\u001b[0m                 }\n\u001b[0;32m     14\u001b[0m         }\n\u001b[0;32m     15\u001b[0m     )\u001b[39m.\u001b[39;49mexecute()\n\u001b[0;32m     17\u001b[0m     data_raw\u001b[39m.\u001b[39mappend({\u001b[39mid\u001b[39m: data})\n",
      "File \u001b[1;32mc:\\Users\\cosemti\\.virtualenvs\\ALGO-Smeg-tpBFOsly\\lib\\site-packages\\googleapiclient\\_helpers.py:130\u001b[0m, in \u001b[0;36mpositional.<locals>.positional_decorator.<locals>.positional_wrapper\u001b[1;34m(*args, **kwargs)\u001b[0m\n\u001b[0;32m    128\u001b[0m     \u001b[39melif\u001b[39;00m positional_parameters_enforcement \u001b[39m==\u001b[39m POSITIONAL_WARNING:\n\u001b[0;32m    129\u001b[0m         logger\u001b[39m.\u001b[39mwarning(message)\n\u001b[1;32m--> 130\u001b[0m \u001b[39mreturn\u001b[39;00m wrapped(\u001b[39m*\u001b[39margs, \u001b[39m*\u001b[39m\u001b[39m*\u001b[39mkwargs)\n",
      "File \u001b[1;32mc:\\Users\\cosemti\\.virtualenvs\\ALGO-Smeg-tpBFOsly\\lib\\site-packages\\googleapiclient\\http.py:938\u001b[0m, in \u001b[0;36mHttpRequest.execute\u001b[1;34m(self, http, num_retries)\u001b[0m\n\u001b[0;32m    936\u001b[0m     callback(resp)\n\u001b[0;32m    937\u001b[0m \u001b[39mif\u001b[39;00m resp\u001b[39m.\u001b[39mstatus \u001b[39m>\u001b[39m\u001b[39m=\u001b[39m \u001b[39m300\u001b[39m:\n\u001b[1;32m--> 938\u001b[0m     \u001b[39mraise\u001b[39;00m HttpError(resp, content, uri\u001b[39m=\u001b[39m\u001b[39mself\u001b[39m\u001b[39m.\u001b[39muri)\n\u001b[0;32m    939\u001b[0m \u001b[39mreturn\u001b[39;00m \u001b[39mself\u001b[39m\u001b[39m.\u001b[39mpostproc(resp, content)\n",
      "\u001b[1;31mHttpError\u001b[0m: <HttpError 503 when requesting https://analyticsreporting.googleapis.com/v4/userActivity:search?alt=json returned \"The service is currently unavailable.\". Details: \"The service is currently unavailable.\">"
     ]
    }
   ],
   "source": [
    "for i in range(4999, len(ids)):\n",
    "    id = ids[i]\n",
    "    data = service.userActivity().search(\n",
    "        body={\n",
    "            'viewId': VIEW_ID,\n",
    "            'dateRange': {\n",
    "                \"startDate\": \"2022-09-01\",\n",
    "                \"endDate\": \"2023-02-19\",\n",
    "            },\n",
    "            'user': {\n",
    "                    \"type\": \"CLIENT_ID\",\n",
    "                    \"userId\": id\n",
    "                }\n",
    "        }\n",
    "    ).execute()\n",
    "\n",
    "    data_raw.append({id: data})"
   ]
  },
  {
   "cell_type": "code",
   "execution_count": 63,
   "metadata": {},
   "outputs": [
    {
     "ename": "HttpError",
     "evalue": "<HttpError 503 when requesting https://analyticsreporting.googleapis.com/v4/userActivity:search?alt=json returned \"The service is currently unavailable.\". Details: \"The service is currently unavailable.\">",
     "output_type": "error",
     "traceback": [
      "\u001b[1;31m---------------------------------------------------------------------------\u001b[0m",
      "\u001b[1;31mHttpError\u001b[0m                                 Traceback (most recent call last)",
      "Cell \u001b[1;32mIn[63], line 3\u001b[0m\n\u001b[0;32m      1\u001b[0m \u001b[39mfor\u001b[39;00m i \u001b[39min\u001b[39;00m \u001b[39mrange\u001b[39m(\u001b[39m8225\u001b[39m, \u001b[39mlen\u001b[39m(ids)):\n\u001b[0;32m      2\u001b[0m     \u001b[39mid\u001b[39m \u001b[39m=\u001b[39m ids[i]\n\u001b[1;32m----> 3\u001b[0m     data \u001b[39m=\u001b[39m service\u001b[39m.\u001b[39;49muserActivity()\u001b[39m.\u001b[39;49msearch(\n\u001b[0;32m      4\u001b[0m         body\u001b[39m=\u001b[39;49m{\n\u001b[0;32m      5\u001b[0m             \u001b[39m'\u001b[39;49m\u001b[39mviewId\u001b[39;49m\u001b[39m'\u001b[39;49m: VIEW_ID,\n\u001b[0;32m      6\u001b[0m             \u001b[39m'\u001b[39;49m\u001b[39mdateRange\u001b[39;49m\u001b[39m'\u001b[39;49m: {\n\u001b[0;32m      7\u001b[0m                 \u001b[39m\"\u001b[39;49m\u001b[39mstartDate\u001b[39;49m\u001b[39m\"\u001b[39;49m: \u001b[39m\"\u001b[39;49m\u001b[39m2022-09-01\u001b[39;49m\u001b[39m\"\u001b[39;49m,\n\u001b[0;32m      8\u001b[0m                 \u001b[39m\"\u001b[39;49m\u001b[39mendDate\u001b[39;49m\u001b[39m\"\u001b[39;49m: \u001b[39m\"\u001b[39;49m\u001b[39m2023-02-19\u001b[39;49m\u001b[39m\"\u001b[39;49m,\n\u001b[0;32m      9\u001b[0m             },\n\u001b[0;32m     10\u001b[0m             \u001b[39m'\u001b[39;49m\u001b[39muser\u001b[39;49m\u001b[39m'\u001b[39;49m: {\n\u001b[0;32m     11\u001b[0m                     \u001b[39m\"\u001b[39;49m\u001b[39mtype\u001b[39;49m\u001b[39m\"\u001b[39;49m: \u001b[39m\"\u001b[39;49m\u001b[39mCLIENT_ID\u001b[39;49m\u001b[39m\"\u001b[39;49m,\n\u001b[0;32m     12\u001b[0m                     \u001b[39m\"\u001b[39;49m\u001b[39muserId\u001b[39;49m\u001b[39m\"\u001b[39;49m: \u001b[39mid\u001b[39;49m\n\u001b[0;32m     13\u001b[0m                 }\n\u001b[0;32m     14\u001b[0m         }\n\u001b[0;32m     15\u001b[0m     )\u001b[39m.\u001b[39;49mexecute()\n\u001b[0;32m     17\u001b[0m     data_raw\u001b[39m.\u001b[39mappend({\u001b[39mid\u001b[39m: data})\n",
      "File \u001b[1;32mc:\\Users\\cosemti\\.virtualenvs\\ALGO-Smeg-tpBFOsly\\lib\\site-packages\\googleapiclient\\_helpers.py:130\u001b[0m, in \u001b[0;36mpositional.<locals>.positional_decorator.<locals>.positional_wrapper\u001b[1;34m(*args, **kwargs)\u001b[0m\n\u001b[0;32m    128\u001b[0m     \u001b[39melif\u001b[39;00m positional_parameters_enforcement \u001b[39m==\u001b[39m POSITIONAL_WARNING:\n\u001b[0;32m    129\u001b[0m         logger\u001b[39m.\u001b[39mwarning(message)\n\u001b[1;32m--> 130\u001b[0m \u001b[39mreturn\u001b[39;00m wrapped(\u001b[39m*\u001b[39margs, \u001b[39m*\u001b[39m\u001b[39m*\u001b[39mkwargs)\n",
      "File \u001b[1;32mc:\\Users\\cosemti\\.virtualenvs\\ALGO-Smeg-tpBFOsly\\lib\\site-packages\\googleapiclient\\http.py:938\u001b[0m, in \u001b[0;36mHttpRequest.execute\u001b[1;34m(self, http, num_retries)\u001b[0m\n\u001b[0;32m    936\u001b[0m     callback(resp)\n\u001b[0;32m    937\u001b[0m \u001b[39mif\u001b[39;00m resp\u001b[39m.\u001b[39mstatus \u001b[39m>\u001b[39m\u001b[39m=\u001b[39m \u001b[39m300\u001b[39m:\n\u001b[1;32m--> 938\u001b[0m     \u001b[39mraise\u001b[39;00m HttpError(resp, content, uri\u001b[39m=\u001b[39m\u001b[39mself\u001b[39m\u001b[39m.\u001b[39muri)\n\u001b[0;32m    939\u001b[0m \u001b[39mreturn\u001b[39;00m \u001b[39mself\u001b[39m\u001b[39m.\u001b[39mpostproc(resp, content)\n",
      "\u001b[1;31mHttpError\u001b[0m: <HttpError 503 when requesting https://analyticsreporting.googleapis.com/v4/userActivity:search?alt=json returned \"The service is currently unavailable.\". Details: \"The service is currently unavailable.\">"
     ]
    }
   ],
   "source": [
    "for i in range(8225, len(ids)):\n",
    "    id = ids[i]\n",
    "    data = service.userActivity().search(\n",
    "        body={\n",
    "            'viewId': VIEW_ID,\n",
    "            'dateRange': {\n",
    "                \"startDate\": \"2022-09-01\",\n",
    "                \"endDate\": \"2023-02-19\",\n",
    "            },\n",
    "            'user': {\n",
    "                    \"type\": \"CLIENT_ID\",\n",
    "                    \"userId\": id\n",
    "                }\n",
    "        }\n",
    "    ).execute()\n",
    "\n",
    "    data_raw.append({id: data})"
   ]
  },
  {
   "cell_type": "code",
   "execution_count": 64,
   "metadata": {},
   "outputs": [
    {
     "ename": "HttpError",
     "evalue": "<HttpError 503 when requesting https://analyticsreporting.googleapis.com/v4/userActivity:search?alt=json returned \"The service is currently unavailable.\". Details: \"The service is currently unavailable.\">",
     "output_type": "error",
     "traceback": [
      "\u001b[1;31m---------------------------------------------------------------------------\u001b[0m",
      "\u001b[1;31mHttpError\u001b[0m                                 Traceback (most recent call last)",
      "Cell \u001b[1;32mIn[64], line 3\u001b[0m\n\u001b[0;32m      1\u001b[0m \u001b[39mfor\u001b[39;00m i \u001b[39min\u001b[39;00m \u001b[39mrange\u001b[39m(\u001b[39m9698\u001b[39m, \u001b[39mlen\u001b[39m(ids)):\n\u001b[0;32m      2\u001b[0m     \u001b[39mid\u001b[39m \u001b[39m=\u001b[39m ids[i]\n\u001b[1;32m----> 3\u001b[0m     data \u001b[39m=\u001b[39m service\u001b[39m.\u001b[39;49muserActivity()\u001b[39m.\u001b[39;49msearch(\n\u001b[0;32m      4\u001b[0m         body\u001b[39m=\u001b[39;49m{\n\u001b[0;32m      5\u001b[0m             \u001b[39m'\u001b[39;49m\u001b[39mviewId\u001b[39;49m\u001b[39m'\u001b[39;49m: VIEW_ID,\n\u001b[0;32m      6\u001b[0m             \u001b[39m'\u001b[39;49m\u001b[39mdateRange\u001b[39;49m\u001b[39m'\u001b[39;49m: {\n\u001b[0;32m      7\u001b[0m                 \u001b[39m\"\u001b[39;49m\u001b[39mstartDate\u001b[39;49m\u001b[39m\"\u001b[39;49m: \u001b[39m\"\u001b[39;49m\u001b[39m2022-09-01\u001b[39;49m\u001b[39m\"\u001b[39;49m,\n\u001b[0;32m      8\u001b[0m                 \u001b[39m\"\u001b[39;49m\u001b[39mendDate\u001b[39;49m\u001b[39m\"\u001b[39;49m: \u001b[39m\"\u001b[39;49m\u001b[39m2023-02-19\u001b[39;49m\u001b[39m\"\u001b[39;49m,\n\u001b[0;32m      9\u001b[0m             },\n\u001b[0;32m     10\u001b[0m             \u001b[39m'\u001b[39;49m\u001b[39muser\u001b[39;49m\u001b[39m'\u001b[39;49m: {\n\u001b[0;32m     11\u001b[0m                     \u001b[39m\"\u001b[39;49m\u001b[39mtype\u001b[39;49m\u001b[39m\"\u001b[39;49m: \u001b[39m\"\u001b[39;49m\u001b[39mCLIENT_ID\u001b[39;49m\u001b[39m\"\u001b[39;49m,\n\u001b[0;32m     12\u001b[0m                     \u001b[39m\"\u001b[39;49m\u001b[39muserId\u001b[39;49m\u001b[39m\"\u001b[39;49m: \u001b[39mid\u001b[39;49m\n\u001b[0;32m     13\u001b[0m                 }\n\u001b[0;32m     14\u001b[0m         }\n\u001b[0;32m     15\u001b[0m     )\u001b[39m.\u001b[39;49mexecute()\n\u001b[0;32m     17\u001b[0m     data_raw\u001b[39m.\u001b[39mappend({\u001b[39mid\u001b[39m: data})\n",
      "File \u001b[1;32mc:\\Users\\cosemti\\.virtualenvs\\ALGO-Smeg-tpBFOsly\\lib\\site-packages\\googleapiclient\\_helpers.py:130\u001b[0m, in \u001b[0;36mpositional.<locals>.positional_decorator.<locals>.positional_wrapper\u001b[1;34m(*args, **kwargs)\u001b[0m\n\u001b[0;32m    128\u001b[0m     \u001b[39melif\u001b[39;00m positional_parameters_enforcement \u001b[39m==\u001b[39m POSITIONAL_WARNING:\n\u001b[0;32m    129\u001b[0m         logger\u001b[39m.\u001b[39mwarning(message)\n\u001b[1;32m--> 130\u001b[0m \u001b[39mreturn\u001b[39;00m wrapped(\u001b[39m*\u001b[39margs, \u001b[39m*\u001b[39m\u001b[39m*\u001b[39mkwargs)\n",
      "File \u001b[1;32mc:\\Users\\cosemti\\.virtualenvs\\ALGO-Smeg-tpBFOsly\\lib\\site-packages\\googleapiclient\\http.py:938\u001b[0m, in \u001b[0;36mHttpRequest.execute\u001b[1;34m(self, http, num_retries)\u001b[0m\n\u001b[0;32m    936\u001b[0m     callback(resp)\n\u001b[0;32m    937\u001b[0m \u001b[39mif\u001b[39;00m resp\u001b[39m.\u001b[39mstatus \u001b[39m>\u001b[39m\u001b[39m=\u001b[39m \u001b[39m300\u001b[39m:\n\u001b[1;32m--> 938\u001b[0m     \u001b[39mraise\u001b[39;00m HttpError(resp, content, uri\u001b[39m=\u001b[39m\u001b[39mself\u001b[39m\u001b[39m.\u001b[39muri)\n\u001b[0;32m    939\u001b[0m \u001b[39mreturn\u001b[39;00m \u001b[39mself\u001b[39m\u001b[39m.\u001b[39mpostproc(resp, content)\n",
      "\u001b[1;31mHttpError\u001b[0m: <HttpError 503 when requesting https://analyticsreporting.googleapis.com/v4/userActivity:search?alt=json returned \"The service is currently unavailable.\". Details: \"The service is currently unavailable.\">"
     ]
    }
   ],
   "source": [
    "for i in range(9698, len(ids)):\n",
    "    id = ids[i]\n",
    "    data = service.userActivity().search(\n",
    "        body={\n",
    "            'viewId': VIEW_ID,\n",
    "            'dateRange': {\n",
    "                \"startDate\": \"2022-09-01\",\n",
    "                \"endDate\": \"2023-02-19\",\n",
    "            },\n",
    "            'user': {\n",
    "                    \"type\": \"CLIENT_ID\",\n",
    "                    \"userId\": id\n",
    "                }\n",
    "        }\n",
    "    ).execute()\n",
    "\n",
    "    data_raw.append({id: data})"
   ]
  },
  {
   "cell_type": "code",
   "execution_count": 65,
   "metadata": {},
   "outputs": [
    {
     "ename": "HttpError",
     "evalue": "<HttpError 429 when requesting https://analyticsreporting.googleapis.com/v4/userActivity:search?alt=json returned \"Quota Error: profileId ga:107251456 has exceeded the daily request limit.\". Details: \"Quota Error: profileId ga:107251456 has exceeded the daily request limit.\">",
     "output_type": "error",
     "traceback": [
      "\u001b[1;31m---------------------------------------------------------------------------\u001b[0m",
      "\u001b[1;31mHttpError\u001b[0m                                 Traceback (most recent call last)",
      "Cell \u001b[1;32mIn[65], line 3\u001b[0m\n\u001b[0;32m      1\u001b[0m \u001b[39mfor\u001b[39;00m i \u001b[39min\u001b[39;00m \u001b[39mrange\u001b[39m(\u001b[39m9984\u001b[39m, \u001b[39mlen\u001b[39m(ids)):\n\u001b[0;32m      2\u001b[0m     \u001b[39mid\u001b[39m \u001b[39m=\u001b[39m ids[i]\n\u001b[1;32m----> 3\u001b[0m     data \u001b[39m=\u001b[39m service\u001b[39m.\u001b[39;49muserActivity()\u001b[39m.\u001b[39;49msearch(\n\u001b[0;32m      4\u001b[0m         body\u001b[39m=\u001b[39;49m{\n\u001b[0;32m      5\u001b[0m             \u001b[39m'\u001b[39;49m\u001b[39mviewId\u001b[39;49m\u001b[39m'\u001b[39;49m: VIEW_ID,\n\u001b[0;32m      6\u001b[0m             \u001b[39m'\u001b[39;49m\u001b[39mdateRange\u001b[39;49m\u001b[39m'\u001b[39;49m: {\n\u001b[0;32m      7\u001b[0m                 \u001b[39m\"\u001b[39;49m\u001b[39mstartDate\u001b[39;49m\u001b[39m\"\u001b[39;49m: \u001b[39m\"\u001b[39;49m\u001b[39m2022-09-01\u001b[39;49m\u001b[39m\"\u001b[39;49m,\n\u001b[0;32m      8\u001b[0m                 \u001b[39m\"\u001b[39;49m\u001b[39mendDate\u001b[39;49m\u001b[39m\"\u001b[39;49m: \u001b[39m\"\u001b[39;49m\u001b[39m2023-02-19\u001b[39;49m\u001b[39m\"\u001b[39;49m,\n\u001b[0;32m      9\u001b[0m             },\n\u001b[0;32m     10\u001b[0m             \u001b[39m'\u001b[39;49m\u001b[39muser\u001b[39;49m\u001b[39m'\u001b[39;49m: {\n\u001b[0;32m     11\u001b[0m                     \u001b[39m\"\u001b[39;49m\u001b[39mtype\u001b[39;49m\u001b[39m\"\u001b[39;49m: \u001b[39m\"\u001b[39;49m\u001b[39mCLIENT_ID\u001b[39;49m\u001b[39m\"\u001b[39;49m,\n\u001b[0;32m     12\u001b[0m                     \u001b[39m\"\u001b[39;49m\u001b[39muserId\u001b[39;49m\u001b[39m\"\u001b[39;49m: \u001b[39mid\u001b[39;49m\n\u001b[0;32m     13\u001b[0m                 }\n\u001b[0;32m     14\u001b[0m         }\n\u001b[0;32m     15\u001b[0m     )\u001b[39m.\u001b[39;49mexecute()\n\u001b[0;32m     17\u001b[0m     data_raw\u001b[39m.\u001b[39mappend({\u001b[39mid\u001b[39m: data})\n",
      "File \u001b[1;32mc:\\Users\\cosemti\\.virtualenvs\\ALGO-Smeg-tpBFOsly\\lib\\site-packages\\googleapiclient\\_helpers.py:130\u001b[0m, in \u001b[0;36mpositional.<locals>.positional_decorator.<locals>.positional_wrapper\u001b[1;34m(*args, **kwargs)\u001b[0m\n\u001b[0;32m    128\u001b[0m     \u001b[39melif\u001b[39;00m positional_parameters_enforcement \u001b[39m==\u001b[39m POSITIONAL_WARNING:\n\u001b[0;32m    129\u001b[0m         logger\u001b[39m.\u001b[39mwarning(message)\n\u001b[1;32m--> 130\u001b[0m \u001b[39mreturn\u001b[39;00m wrapped(\u001b[39m*\u001b[39margs, \u001b[39m*\u001b[39m\u001b[39m*\u001b[39mkwargs)\n",
      "File \u001b[1;32mc:\\Users\\cosemti\\.virtualenvs\\ALGO-Smeg-tpBFOsly\\lib\\site-packages\\googleapiclient\\http.py:938\u001b[0m, in \u001b[0;36mHttpRequest.execute\u001b[1;34m(self, http, num_retries)\u001b[0m\n\u001b[0;32m    936\u001b[0m     callback(resp)\n\u001b[0;32m    937\u001b[0m \u001b[39mif\u001b[39;00m resp\u001b[39m.\u001b[39mstatus \u001b[39m>\u001b[39m\u001b[39m=\u001b[39m \u001b[39m300\u001b[39m:\n\u001b[1;32m--> 938\u001b[0m     \u001b[39mraise\u001b[39;00m HttpError(resp, content, uri\u001b[39m=\u001b[39m\u001b[39mself\u001b[39m\u001b[39m.\u001b[39muri)\n\u001b[0;32m    939\u001b[0m \u001b[39mreturn\u001b[39;00m \u001b[39mself\u001b[39m\u001b[39m.\u001b[39mpostproc(resp, content)\n",
      "\u001b[1;31mHttpError\u001b[0m: <HttpError 429 when requesting https://analyticsreporting.googleapis.com/v4/userActivity:search?alt=json returned \"Quota Error: profileId ga:107251456 has exceeded the daily request limit.\". Details: \"Quota Error: profileId ga:107251456 has exceeded the daily request limit.\">"
     ]
    }
   ],
   "source": [
    "for i in range(9984, len(ids)):\n",
    "    id = ids[i]\n",
    "    data = service.userActivity().search(\n",
    "        body={\n",
    "            'viewId': VIEW_ID,\n",
    "            'dateRange': {\n",
    "                \"startDate\": \"2022-09-01\",\n",
    "                \"endDate\": \"2023-02-19\",\n",
    "            },\n",
    "            'user': {\n",
    "                    \"type\": \"CLIENT_ID\",\n",
    "                    \"userId\": id\n",
    "                }\n",
    "        }\n",
    "    ).execute()\n",
    "\n",
    "    data_raw.append({id: data})"
   ]
  },
  {
   "cell_type": "code",
   "execution_count": 66,
   "metadata": {},
   "outputs": [
    {
     "data": {
      "text/plain": [
       "['../../data/raw/data_raw.pkl']"
      ]
     },
     "execution_count": 66,
     "metadata": {},
     "output_type": "execute_result"
    }
   ],
   "source": [
    "joblib.dump(data_raw, \"../../data/raw/data_raw.pkl\")"
   ]
  },
  {
   "cell_type": "code",
   "execution_count": 97,
   "metadata": {},
   "outputs": [],
   "source": [
    "data_raw = joblib.load(\"../../data/raw/data_raw.pkl\")"
   ]
  },
  {
   "cell_type": "code",
   "execution_count": 102,
   "metadata": {},
   "outputs": [],
   "source": [
    "data_clean = []\n",
    "for records in data_raw: \n",
    "    #test[user].pop('totalRows')\n",
    "    #test[user].pop('sampleRate')\n",
    "\n",
    "    user = list(records.keys())[0]\n",
    "\n",
    "    for session in records[user]['sessions']: \n",
    "        for activity in session['activities']:\n",
    "\n",
    "            result = {}\n",
    "            result['id'] = user \n",
    "            result['sessionId'] = session['sessionId']\n",
    "            result['deviceCategory'] = session['deviceCategory']\n",
    "            result['platform'] = session['platform']\n",
    "            result['sessionDate'] = session['sessionDate']\n",
    "            result['dataSource'] = session['dataSource']\n",
    "\n",
    "            for key, value in activity.items():\n",
    "                if isinstance(value, dict):\n",
    "                    result = {**result, **value}  # add subdict directly into the dict\n",
    "                elif isinstance(value, list): \n",
    "                    for subdict in value:\n",
    "                        result.update(subdict)\n",
    "                else:\n",
    "                    result[key] = value  # non-subdict elements are just copied\n",
    "\n",
    "            data_clean.append(result)\n"
   ]
  },
  {
   "cell_type": "code",
   "execution_count": 103,
   "metadata": {},
   "outputs": [],
   "source": [
    "data_clean2 = []\n",
    "for records in data_clean: \n",
    "    result = {}\n",
    "\n",
    "    for key, value in records.items():\n",
    "        if isinstance(value, dict):\n",
    "            result = {**result, **value}  # add subdict directly into the dict\n",
    "        elif isinstance(value, list): \n",
    "            for subdict in value:\n",
    "                result.update(subdict)\n",
    "        else:\n",
    "            result[key] = value  # non-subdict elements are just copied\n",
    "\n",
    "    data_clean2.append(result)"
   ]
  },
  {
   "cell_type": "code",
   "execution_count": 104,
   "metadata": {},
   "outputs": [],
   "source": [
    "data_preprocessed = pd.DataFrame(data_clean2)"
   ]
  },
  {
   "cell_type": "code",
   "execution_count": 106,
   "metadata": {},
   "outputs": [],
   "source": [
    "data_preprocessed.to_pickle(\"../../data/processed/data_preprocessed.pkl\")"
   ]
  },
  {
   "attachments": {},
   "cell_type": "markdown",
   "metadata": {},
   "source": [
    "What is the bottleneck activity? \n",
    "What transactions contain ping-pong behaviour? \n",
    "What process executions are slow? \n",
    "What are common deviations? \n",
    "How can we rearrange activities? "
   ]
  }
 ],
 "metadata": {
  "kernelspec": {
   "display_name": "ALGO-Smeg-tpBFOsly",
   "language": "python",
   "name": "python3"
  },
  "language_info": {
   "codemirror_mode": {
    "name": "ipython",
    "version": 3
   },
   "file_extension": ".py",
   "mimetype": "text/x-python",
   "name": "python",
   "nbconvert_exporter": "python",
   "pygments_lexer": "ipython3",
   "version": "3.9.12"
  },
  "orig_nbformat": 4,
  "vscode": {
   "interpreter": {
    "hash": "3569d9319d40d2d1bd605b9620fcac844ff48084aa849be778998b6587c3220a"
   }
  }
 },
 "nbformat": 4,
 "nbformat_minor": 2
}
