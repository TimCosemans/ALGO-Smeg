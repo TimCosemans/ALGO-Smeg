{
 "cells": [
  {
   "cell_type": "code",
   "execution_count": 1,
   "metadata": {},
   "outputs": [],
   "source": [
    "import pandas as pd\n",
    "import joblib\n",
    "import pm4py\n",
    "import numpy as np\n",
    "import seaborn as sns\n",
    "import matplotlib.pyplot as plt"
   ]
  },
  {
   "cell_type": "code",
   "execution_count": 2,
   "metadata": {},
   "outputs": [],
   "source": [
    "data = joblib.load(\"../../data/processed/data_clean.pkl\")\n",
    "data[\"key\"] = data[\"id\"].astype(str) + \"-\" + data[\"sessionId\"].astype(str)"
   ]
  },
  {
   "cell_type": "code",
   "execution_count": 3,
   "metadata": {},
   "outputs": [
    {
     "data": {
      "text/plain": [
       "array(['LOAD_NEW_PAGE_PRODUCT', 'LOAD_NEW_PAGE_HOME', 'VIDEO_START',\n",
       "       'VIDEO_PROGRESS', 'FILTER_BY', 'CLICK', 'DETAILS_VIEW',\n",
       "       'LOAD_NEW_PAGE_SHOWROOM', 'LOAD_NEW_PAGE_SEARCH',\n",
       "       'LOAD_NEW_PAGE_NEWS', 'LOAD_NEW_PAGE_PROMOTION',\n",
       "       'LOAD_NEW_PAGE_SERVICE', 'LOAD_NEW_PAGE_LEGAL',\n",
       "       'LOAD_NEW_PAGE_INFO', 'LOAD_NEW_PAGE_INSPIRATION',\n",
       "       'VIDEO_COMPLETE', 'DOWNLOAD', 'LOAD_NEW_PAGE_COMPANY',\n",
       "       'LOAD_NEW_PAGE_ERROR', 'ADD_TO_CART', 'LOAD_NEW_PAGE_CHECKOUT',\n",
       "       'CHECKOUT', 'LOAD_NEW_PAGE_ACCOUNT', 'PAYMENT',\n",
       "       'LOAD_NEW_PAGE_JOBS', 'LOAD_NEW_PAGE_COMPARISON',\n",
       "       'REMOVE_FROM_CART'], dtype=object)"
      ]
     },
     "execution_count": 3,
     "metadata": {},
     "output_type": "execute_result"
    }
   ],
   "source": [
    "data[\"event\"].unique()"
   ]
  },
  {
   "cell_type": "code",
   "execution_count": 4,
   "metadata": {},
   "outputs": [],
   "source": [
    "n_cases_min = 1\n",
    "n_cases_max = 10000\n",
    "\n",
    "n_seconds_min = 30\n",
    "n_seconds_max = 200000\n",
    "channel = [\"Organic Search\"]\n",
    "device = []\n",
    "platform = []\n",
    "#constant per case \n",
    "\n",
    "events_excluded = [\"LOAD_NEW_PAGE_JOBS\", \"LOAD_NEW_PAGE_ERROR\"]\n",
    "#exclude all cases that have ANY of these events\n",
    "\n",
    "filter = \"and\"\n",
    "events_needed = [\"LOAD_NEW_PAGE_PROMOTION\"]\n",
    "#filter all cases that include \"either\" (=\"or\") or \"all\" (=\"and\")\n"
   ]
  },
  {
   "cell_type": "code",
   "execution_count": 5,
   "metadata": {},
   "outputs": [],
   "source": [
    "filtered_data = pm4py.filter_case_size(data, n_cases_min, n_cases_max, case_id_key=\"key\")\n",
    "\n",
    "filtered_data = pm4py.filter_case_performance(filtered_data, n_seconds_min, n_seconds_max, \n",
    "                                       case_id_key=\"key\", timestamp_key=\"activityTime\")\n",
    "\n",
    "filtered_data = pm4py.filter_event_attribute_values(filtered_data, attribute_key=\"channelGrouping\", \n",
    "                                                    values=channel, level=\"case\", retain=True, \n",
    "                                                    case_id_key=\"key\")\n",
    "filtered_data = pm4py.filter_event_attribute_values(filtered_data, attribute_key=\"deviceCategory\", \n",
    "                                                    values=device, level=\"case\", retain=True, \n",
    "                                                    case_id_key=\"key\")\n",
    "filtered_data = pm4py.filter_event_attribute_values(filtered_data, attribute_key=\"platform\", \n",
    "                                                    values=platform, level=\"case\", retain=True, \n",
    "                                                    case_id_key=\"key\")\n",
    "\n",
    "if filter == \"and\":\n",
    "\n",
    "    for event in events_needed: \n",
    "        filtered_data = pm4py.filter_event_attribute_values(filtered_data, attribute_key=\"event\", \n",
    "                                                            values=[event], level=\"case\", retain=True, \n",
    "                                                            case_id_key=\"key\")\n",
    "else:\n",
    "    filtered_data = pm4py.filter_event_attribute_values(filtered_data, attribute_key=\"event\", \n",
    "                                                            values=events_needed, level=\"case\", retain=True, \n",
    "                                                            case_id_key=\"key\")\n",
    "    \n",
    "filtered_data = pm4py.filter_event_attribute_values(filtered_data, attribute_key=\"event\", \n",
    "                                                    values=events_excluded, level=\"case\", retain=False, \n",
    "                                                    case_id_key=\"key\")"
   ]
  },
  {
   "cell_type": "code",
   "execution_count": 6,
   "metadata": {},
   "outputs": [
    {
     "data": {
      "image/png": "[encoded data removed]",
      "text/plain": [
       "<IPython.core.display.Image object>"
      ]
     },
     "metadata": {},
     "output_type": "display_data"
    }
   ],
   "source": [
    "map = pm4py.discover_heuristics_net(filtered_data, activity_key=\"event\", timestamp_key=\"activityTime\", case_id_key=\"key\")\n",
    "test = pm4py.view_heuristics_net(map)"
   ]
  },
  {
   "cell_type": "code",
   "execution_count": 7,
   "metadata": {},
   "outputs": [
    {
     "ename": "TypeError",
     "evalue": "no numeric data to plot",
     "output_type": "error",
     "traceback": [
      "\u001b[1;31m---------------------------------------------------------------------------\u001b[0m",
      "\u001b[1;31mTypeError\u001b[0m                                 Traceback (most recent call last)",
      "Cell \u001b[1;32mIn[7], line 9\u001b[0m\n\u001b[0;32m      7\u001b[0m sns\u001b[39m.\u001b[39mset_theme(style\u001b[39m=\u001b[39m\u001b[39m\"\u001b[39m\u001b[39mdarkgrid\u001b[39m\u001b[39m\"\u001b[39m, palette\u001b[39m=\u001b[39m\u001b[39m\"\u001b[39m\u001b[39mbright\u001b[39m\u001b[39m\"\u001b[39m)\n\u001b[0;32m      8\u001b[0m fig, ax \u001b[39m=\u001b[39m plt\u001b[39m.\u001b[39msubplots()\n\u001b[1;32m----> 9\u001b[0m df_plot\u001b[39m.\u001b[39;49mplot(kind\u001b[39m=\u001b[39;49m\u001b[39m'\u001b[39;49m\u001b[39mbar\u001b[39;49m\u001b[39m'\u001b[39;49m, stacked\u001b[39m=\u001b[39;49m\u001b[39mTrue\u001b[39;49;00m, ax\u001b[39m=\u001b[39;49max)\n",
      "File \u001b[1;32mc:\\Users\\cosemti\\.virtualenvs\\ALGO-Smeg-tpBFOsly\\lib\\site-packages\\pandas\\plotting\\_core.py:1000\u001b[0m, in \u001b[0;36mPlotAccessor.__call__\u001b[1;34m(self, *args, **kwargs)\u001b[0m\n\u001b[0;32m    997\u001b[0m             label_name \u001b[39m=\u001b[39m label_kw \u001b[39mor\u001b[39;00m data\u001b[39m.\u001b[39mcolumns\n\u001b[0;32m    998\u001b[0m             data\u001b[39m.\u001b[39mcolumns \u001b[39m=\u001b[39m label_name\n\u001b[1;32m-> 1000\u001b[0m \u001b[39mreturn\u001b[39;00m plot_backend\u001b[39m.\u001b[39mplot(data, kind\u001b[39m=\u001b[39mkind, \u001b[39m*\u001b[39m\u001b[39m*\u001b[39mkwargs)\n",
      "File \u001b[1;32mc:\\Users\\cosemti\\.virtualenvs\\ALGO-Smeg-tpBFOsly\\lib\\site-packages\\pandas\\plotting\\_matplotlib\\__init__.py:71\u001b[0m, in \u001b[0;36mplot\u001b[1;34m(data, kind, **kwargs)\u001b[0m\n\u001b[0;32m     69\u001b[0m         kwargs[\u001b[39m\"\u001b[39m\u001b[39max\u001b[39m\u001b[39m\"\u001b[39m] \u001b[39m=\u001b[39m \u001b[39mgetattr\u001b[39m(ax, \u001b[39m\"\u001b[39m\u001b[39mleft_ax\u001b[39m\u001b[39m\"\u001b[39m, ax)\n\u001b[0;32m     70\u001b[0m plot_obj \u001b[39m=\u001b[39m PLOT_CLASSES[kind](data, \u001b[39m*\u001b[39m\u001b[39m*\u001b[39mkwargs)\n\u001b[1;32m---> 71\u001b[0m plot_obj\u001b[39m.\u001b[39;49mgenerate()\n\u001b[0;32m     72\u001b[0m plot_obj\u001b[39m.\u001b[39mdraw()\n\u001b[0;32m     73\u001b[0m \u001b[39mreturn\u001b[39;00m plot_obj\u001b[39m.\u001b[39mresult\n",
      "File \u001b[1;32mc:\\Users\\cosemti\\.virtualenvs\\ALGO-Smeg-tpBFOsly\\lib\\site-packages\\pandas\\plotting\\_matplotlib\\core.py:450\u001b[0m, in \u001b[0;36mMPLPlot.generate\u001b[1;34m(self)\u001b[0m\n\u001b[0;32m    448\u001b[0m \u001b[39mdef\u001b[39;00m \u001b[39mgenerate\u001b[39m(\u001b[39mself\u001b[39m) \u001b[39m-\u001b[39m\u001b[39m>\u001b[39m \u001b[39mNone\u001b[39;00m:\n\u001b[0;32m    449\u001b[0m     \u001b[39mself\u001b[39m\u001b[39m.\u001b[39m_args_adjust()\n\u001b[1;32m--> 450\u001b[0m     \u001b[39mself\u001b[39;49m\u001b[39m.\u001b[39;49m_compute_plot_data()\n\u001b[0;32m    451\u001b[0m     \u001b[39mself\u001b[39m\u001b[39m.\u001b[39m_setup_subplots()\n\u001b[0;32m    452\u001b[0m     \u001b[39mself\u001b[39m\u001b[39m.\u001b[39m_make_plot()\n",
      "File \u001b[1;32mc:\\Users\\cosemti\\.virtualenvs\\ALGO-Smeg-tpBFOsly\\lib\\site-packages\\pandas\\plotting\\_matplotlib\\core.py:635\u001b[0m, in \u001b[0;36mMPLPlot._compute_plot_data\u001b[1;34m(self)\u001b[0m\n\u001b[0;32m    633\u001b[0m \u001b[39m# no non-numeric frames or series allowed\u001b[39;00m\n\u001b[0;32m    634\u001b[0m \u001b[39mif\u001b[39;00m is_empty:\n\u001b[1;32m--> 635\u001b[0m     \u001b[39mraise\u001b[39;00m \u001b[39mTypeError\u001b[39;00m(\u001b[39m\"\u001b[39m\u001b[39mno numeric data to plot\u001b[39m\u001b[39m\"\u001b[39m)\n\u001b[0;32m    637\u001b[0m \u001b[39mself\u001b[39m\u001b[39m.\u001b[39mdata \u001b[39m=\u001b[39m numeric_data\u001b[39m.\u001b[39mapply(\u001b[39mself\u001b[39m\u001b[39m.\u001b[39m_convert_to_ndarray)\n",
      "\u001b[1;31mTypeError\u001b[0m: no numeric data to plot"
     ]
    },
    {
     "data": {
      "image/png": "[encoded data removed]",
      "text/plain": [
       "<Figure size 640x480 with 1 Axes>"
      ]
     },
     "metadata": {},
     "output_type": "display_data"
    }
   ],
   "source": [
    "%matplotlib inline\n",
    "filtered_data[\"Time\"] = filtered_data[\"activityTime\"].dt.round('30T').dt.time\n",
    "filtered_data[\"Event\"] = np.where(filtered_data[\"event\"].isin(events_needed), filtered_data[\"event\"], \"OTHER\")\n",
    "\n",
    "df_plot = filtered_data.groupby(['Event', 'Time']).size().reset_index().pivot(columns='Event', index='Time', values=0)\n",
    "\n",
    "sns.set_theme(style=\"darkgrid\", palette=\"bright\")\n",
    "fig, ax = plt.subplots()\n",
    "df_plot.plot(kind='bar', stacked=True, ax=ax)\n"
   ]
  },
  {
   "cell_type": "code",
   "execution_count": null,
   "metadata": {},
   "outputs": [
    {
     "data": {
      "text/plain": [
       "<seaborn.axisgrid.FacetGrid at 0x2c4eab67a00>"
      ]
     },
     "execution_count": 94,
     "metadata": {},
     "output_type": "execute_result"
    },
    {
     "data": {
      "image/png": "[encoded data removed]",
      "text/plain": [
       "<Figure size 500x500 with 1 Axes>"
      ]
     },
     "metadata": {},
     "output_type": "display_data"
    }
   ],
   "source": [
    "df_plot = filtered_data.groupby([\"id\", \"sessionId\"]).apply(lambda x: (x[\"activityTime\"].max() - x[\"activityTime\"].min()).total_seconds()).reset_index()\n",
    "df_plot.columns = [\"id\", \"sessionId\", \"n_minutes\"]\n",
    "df_plot[\"Time\"] = (df_plot[\"n_minutes\"]/60)\n",
    "\n",
    "sns.set_theme(style=\"darkgrid\", palette=\"bright\")\n",
    "sns.displot(df_plot, x=\"Time\", binwidth=5)"
   ]
  }
 ],
 "metadata": {
  "kernelspec": {
   "display_name": "ALGO-Smeg-tpBFOsly",
   "language": "python",
   "name": "python3"
  },
  "language_info": {
   "codemirror_mode": {
    "name": "ipython",
    "version": 3
   },
   "file_extension": ".py",
   "mimetype": "text/x-python",
   "name": "python",
   "nbconvert_exporter": "python",
   "pygments_lexer": "ipython3",
   "version": "3.9.12"
  },
  "orig_nbformat": 4,
  "vscode": {
   "interpreter": {
    "hash": "3569d9319d40d2d1bd605b9620fcac844ff48084aa849be778998b6587c3220a"
   }
  }
 },
 "nbformat": 4,
 "nbformat_minor": 2
}
