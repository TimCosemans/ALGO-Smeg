{
 "cells": [
  {
   "cell_type": "code",
   "execution_count": 84,
   "metadata": {},
   "outputs": [],
   "source": [
    "import pandas as pd\n",
    "import joblib\n",
    "import pm4py\n",
    "import numpy as np\n",
    "import re "
   ]
  },
  {
   "cell_type": "code",
   "execution_count": 85,
   "metadata": {},
   "outputs": [],
   "source": [
    "data = joblib.load(\"../../data/processed/data_preprocessed.pkl\")"
   ]
  },
  {
   "cell_type": "code",
   "execution_count": 86,
   "metadata": {},
   "outputs": [],
   "source": [
    "data[\"event\"] = np.where(data[\"activityType\"] == \"ECOMMERCE\", data[\"actionType\"], \n",
    "                         np.where((data[\"activityType\"] == \"EVENT\") & (data[\"eventCategory\"] == \"video youtube\"),  \"video_\" + data[\"eventAction\"],\n",
    "                                  np.where((data[\"activityType\"] == \"EVENT\") & (data[\"eventCategory\"] == \"internal search\"),  \"INTERNAL_SEARCH\",\n",
    "                                           np.where(data[\"activityType\"] == \"EVENT\", data[\"eventAction\"], \"LOAD_NEW_PAGE\"))))\n",
    "data[\"event\"] = data[\"event\"].str.rsplit(\" - \", expand=True)[0] #delete seconds after the video event (all product videos)\n",
    "data.loc[data[\"event\"].str.contains(\"filter by\",  case = False), \"event\"] = \"FILTER_BY\" #group filter events\n",
    "data.loc[data[\"event\"].str.contains(\"remov\", case = False), \"event\"] = \"REMOVE_FROM_CART\" #group remove events\n",
    "data.loc[data[\"event\"].str.contains(\"compare\", case = False), \"event\"] = \"COMPARE_PRODUCTS\" #group compare events\n",
    "data.loc[data[\"event\"].str.contains(\"add\", case = False), \"event\"] = \"ADD_TO_CART\" #group add events\n",
    "data.loc[data[\"event\"].str.contains(\"download\", case = False), \"event\"] = \"DOWNLOAD\" #group download events\n",
    "\n"
   ]
  },
  {
   "cell_type": "code",
   "execution_count": 87,
   "metadata": {},
   "outputs": [],
   "source": [
    "page_categories = {\n",
    "        \"SERVICE\" : [\"retour-aanvragen\", \"service-verzoekformulier\", \"customer-service\", \"services\", \"service\", \n",
    "                \"webshop-retouraanvraag\", \"contacts\", \"contact\", \"thank-you-retour\"],\n",
    "\n",
    "        \"LEGAL\" : [\"verkoopsvoorwaarden-algemeen\", \"algemene-verkoopsvoorwaarden\", \"faq\", \"privacy-policy\", \n",
    "                \"algemene-verkoopsvoorwaarden-particulier\", \"cookie-policy\", \"conditions-de-vente\", \n",
    "                \"conditions-de-vente-generales\", \"conditions-de-vente-generales-entreprise\",\n",
    "                \"algemene-verkoopsvoorwaarden-aankoop-als-onderneming\", \n",
    "                \"conditions-de-vente-generales-consommateurs\"],\n",
    "\n",
    "        \"PROMOTION\" : [\"promoties\", \"promotions\", \"bean-to-cup-gratis-cadeaubox\", \"lotus\"],\n",
    "\n",
    "        \"COMPARISON\" : [\"producten-vergelijken\", \"comparaison-de-produits\"],\n",
    "\n",
    "        \"COMPANY\" : [\"het-bedrijf\", \"entreprise\", \"Het-bedrijf\"],\n",
    "\n",
    "        \"NEWS\" : [\"nieuws\", \"actualites\", \"newsletter\"],\n",
    "\n",
    "        \"SEARCH\" : [\"zoekfunctie\", \"search\"],\n",
    "\n",
    "        \"ACCOUNT\" : [\"activate\", \"my-account\", \"register\", \"forgot-password\"],\n",
    "\n",
    "        \"JOBS\" : [\"jobs_product-manager\", \"jobs-chauffeur\", \"jobs_customer_service_medewerker\", \n",
    "                \"jobs-key-account-manager\", \"jobs-account-manager\"],\n",
    "\n",
    "        \"SHOWROOM\" : [\"showroom-bezoek\", \"store-locator\", \"stores\", \"bezoek-showroom\", \n",
    "                \"showroom-visiteurs\", \"inplannen-showroom-bezoek\"],\n",
    "\n",
    "        \"INFO\" : [\"info\", \"3dbestanden\", \"smeg-connect\", \"livrerecettesfourvapeur\", \n",
    "                \"app-leefkeuken\", \"stoomkookboek\", \"smegconnect\", \"gebruiksaanwijzingen\", \n",
    "                \"telecharger-les-catalogues\"],\n",
    "\n",
    "        \"CHECKOUT\" : [\"bedankt\", \"merci\", \"wishlist\", \"cart\", \"checkout\"],\n",
    "\n",
    "        \"INSPIRATION\" : [\"inspiratie-artikels\", \"Designlijnen\", \"inspiratie\", \"designlijnen\", \n",
    "                \"inspiration\", \"inspirations\", \"vitality\", \"designlijn\", \n",
    "                \"designs\", \"design\", \"samenwerkingen\", \"collaborations\"],\n",
    "\n",
    "        \"ERROR\" : [\"pagenotfound\"], \n",
    "\n",
    "        \"HOME\" : [\"/nl\", \"/fr\", \"/be-fr\", \"/be-nl\"]\n",
    "}\n",
    "\n",
    "\n",
    "data[\"page\"] = data[\"pagePath\"].str.rsplit(\"/\", expand=True)[2] \n",
    "data[\"pageExtra\"] = data[\"pagePath\"].str.rsplit(\"/\", expand=True)[3] \n",
    "data[\"page\"] = data[\"page\"].str.rsplit(\"?\", expand=True)[0] #delete parameters search\n",
    "data[\"page\"] = np.where(data[\"page\"].isin([\"service\", \"services\"]) & \n",
    "                        data[\"pageExtra\"].isin([\"gebruiksaanwijzingen\", \"telecharger-les-catalogues\"]), \n",
    "                         data[\"pageExtra\"], data[\"page\"])\n",
    "data[\"page\"] = np.where(data[\"pagePath\"].isin([\"/nl\", \"/fr\", \"/be-nl\", \"/be-fr\"]), data[\"pagePath\"], data[\"page\"])\n",
    "\n",
    "data[\"page_new\"] = np.nan\n",
    "for key, values in page_categories.items(): \n",
    "      data.loc[data[\"page\"].isin(values), \"page_new\"] = key\n",
    "      data.loc[(data[\"page\"].notna() & data[\"page_new\"].isna()), \"page_new\"] = \"PRODUCT\"\n",
    "            "
   ]
  },
  {
   "cell_type": "code",
   "execution_count": 88,
   "metadata": {},
   "outputs": [],
   "source": [
    "data.loc[data[\"page\"].notna(), \"event\"] = data.loc[data[\"page\"].notna(), \"event\"] + \"_\" + data.loc[data[\"page\"].notna(), \"page_new\"]"
   ]
  },
  {
   "cell_type": "code",
   "execution_count": 89,
   "metadata": {},
   "outputs": [],
   "source": [
    "#data.loc[data[\"event\"].str.contains(\"click\", case = False), \"event\"] = \"CLICK\" #group click events\n",
    "data.loc[data[\"event\"].str.contains(\"product\\\\b\", case = False), \"event\"] = \"LOAD_NEW_PAGE_PRODUCT\" #group product pages events\n",
    "data.loc[data[\"event\"].str.contains(\"search\", case = False), \"event\"] = \"LOAD_NEW_PAGE_SEARCH\" #group search events\n",
    "data.loc[data[\"event\"].str.contains(\"promotion\", case = False), \"event\"] = \"LOAD_NEW_PAGE_PROMOTION\" #group promotion events\n",
    "data.loc[data[\"event\"].str.contains(\"step\", case = False), \"event\"] = \"LOAD_NEW_PAGE_CHECKOUT\" #group search events\n",
    "data.loc[data[\"event\"].str.contains(\"phone\", case = False), \"event\"] = \"LOAD_NEW_PAGE_SERVICE\" #group contact events\n",
    "data.loc[data[\"event\"].str.contains(\"order\", case = False), \"event\"] = \"LOAD_NEW_PAGE_CHECKOUT\" #group checkout events\n",
    "data.loc[data[\"event\"].str.contains(\"login|account\", case = False), \"event\"] = \"LOAD_NEW_PAGE_ACCOUNT\" #group checkout events\n",
    "data.loc[data[\"event\"].str.contains(\"compare\", case = False), \"event\"] = \"LOAD_NEW_PAGE_COMPARISON\" #group comparison events"
   ]
  },
  {
   "cell_type": "code",
   "execution_count": 90,
   "metadata": {},
   "outputs": [],
   "source": [
    "data[\"event\"] = data[\"event\"].str.upper()"
   ]
  },
  {
   "cell_type": "code",
   "execution_count": 91,
   "metadata": {},
   "outputs": [],
   "source": [
    "data_clean = data.loc[:, [\"id\", \"sessionId\", \"activityTime\", \"event\", \"pagePath\", \"productSku\", \"channelGrouping\", \"deviceCategory\", \"platform\"]].sort_values([\"id\", \"sessionId\", \"activityTime\", \"event\"], ascending=True)"
   ]
  },
  {
   "cell_type": "code",
   "execution_count": 92,
   "metadata": {},
   "outputs": [],
   "source": [
    "data_clean[\"lagged_event\"] = data_clean.groupby([\"id\", \"sessionId\"])[\"event\"].shift(1)\n",
    "data_clean[\"lagged_page\"] = data_clean.groupby([\"id\", \"sessionId\"])[\"pagePath\"].shift(1)"
   ]
  },
  {
   "cell_type": "code",
   "execution_count": 93,
   "metadata": {},
   "outputs": [],
   "source": [
    "data_clean[\"duplicate\"] = np.where((data_clean[\"event\"] == data_clean[\"lagged_event\"]) & \n",
    "                                   (data_clean[\"pagePath\"] == data_clean[\"lagged_page\"]), 1, 0)"
   ]
  },
  {
   "cell_type": "code",
   "execution_count": 94,
   "metadata": {},
   "outputs": [
    {
     "name": "stdout",
     "output_type": "stream",
     "text": [
      "0    86596\n",
      "1     7572\n",
      "Name: duplicate, dtype: int64\n"
     ]
    }
   ],
   "source": [
    "print(data_clean[\"duplicate\"].value_counts())"
   ]
  },
  {
   "cell_type": "code",
   "execution_count": 95,
   "metadata": {},
   "outputs": [],
   "source": [
    "data_clean = data_clean.loc[data_clean[\"duplicate\"] == 0, [\"id\", \"sessionId\", \"activityTime\", \"event\", \"productSku\", \"channelGrouping\", \"deviceCategory\", \"platform\"]]"
   ]
  },
  {
   "cell_type": "code",
   "execution_count": 96,
   "metadata": {},
   "outputs": [],
   "source": [
    "data_clean[\"activityTime\"] = pd.to_datetime(data_clean[\"activityTime\"])"
   ]
  },
  {
   "cell_type": "code",
   "execution_count": 97,
   "metadata": {},
   "outputs": [],
   "source": [
    "#cutoff_s = 30\n",
    "#cutoff_events = 1\n",
    "#data_to_delete = data_clean.groupby([\"id\", \"sessionId\"]).apply(lambda x: (x[\"activityTime\"].max() - x[\"activityTime\"].min()).total_seconds()).reset_index()\n",
    "#data_to_delete2 = data_clean.groupby([\"id\", \"sessionId\"]).size().reset_index()\n",
    "\n",
    "#data_to_delete = data_to_delete.merge(data_to_delete2, how=\"left\", on=[\"id\", \"sessionId\"])\n",
    "#data_to_delete.columns = [\"id\", \"sessionId\", \"n_seconds\", \"n_events\"]\n",
    "#data_to_delete = data_to_delete.loc[(data_to_delete[\"n_seconds\"] <= cutoff_s) | (data_to_delete[\"n_events\"] <= cutoff_events), :]"
   ]
  },
  {
   "cell_type": "code",
   "execution_count": 98,
   "metadata": {},
   "outputs": [],
   "source": [
    "#data_clean = data_clean.loc[~np.array(data_clean[\"id\"].isin(data_to_delete[\"id\"]) | data_clean[\"sessionId\"].isin(data_to_delete[\"sessionId\"])), :]"
   ]
  },
  {
   "cell_type": "code",
   "execution_count": 99,
   "metadata": {},
   "outputs": [],
   "source": [
    "data_clean.to_pickle(\"../../data/processed/data_clean.pkl\")"
   ]
  }
 ],
 "metadata": {
  "kernelspec": {
   "display_name": "ALGO-Smeg-tpBFOsly",
   "language": "python",
   "name": "python3"
  },
  "language_info": {
   "codemirror_mode": {
    "name": "ipython",
    "version": 3
   },
   "file_extension": ".py",
   "mimetype": "text/x-python",
   "name": "python",
   "nbconvert_exporter": "python",
   "pygments_lexer": "ipython3",
   "version": "3.9.12"
  },
  "orig_nbformat": 4,
  "vscode": {
   "interpreter": {
    "hash": "3569d9319d40d2d1bd605b9620fcac844ff48084aa849be778998b6587c3220a"
   }
  }
 },
 "nbformat": 4,
 "nbformat_minor": 2
}
