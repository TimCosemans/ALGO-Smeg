{
 "cells": [
  {
   "cell_type": "code",
   "execution_count": 9,
   "metadata": {},
   "outputs": [],
   "source": [
    "import pandas as pd\n",
    "import joblib\n",
    "import pm4py\n",
    "import numpy as np\n",
    "import re "
   ]
  },
  {
   "cell_type": "code",
   "execution_count": 2,
   "metadata": {},
   "outputs": [],
   "source": [
    "data = joblib.load(\"../../data/processed/data_preprocessed.pkl\")"
   ]
  },
  {
   "cell_type": "code",
   "execution_count": 71,
   "metadata": {},
   "outputs": [],
   "source": [
    "data[\"event\"] = np.where(data[\"activityType\"] == \"ECOMMERCE\", data[\"actionType\"], \n",
    "                         np.where((data[\"activityType\"] == \"EVENT\") & (data[\"eventCategory\"] == \"video youtube\"),  \"video_\" + data[\"eventAction\"],\n",
    "                                  np.where((data[\"activityType\"] == \"EVENT\") & (data[\"eventCategory\"] == \"internal search\"),  \"INTERNAL_SEARCH\",\n",
    "                                           np.where(data[\"activityType\"] == \"EVENT\", data[\"eventAction\"], \"LOAD_NEW_PAGE\"))))\n",
    "data[\"event\"] = data[\"event\"].str.rsplit(\" - \", expand=True)[0] #delete seconds after the video event (all product videos)\n",
    "data.loc[data[\"event\"].str.contains(\"filter by\",  case = False), \"event\"] = \"FILTER_BY\" #group filter events\n",
    "data.loc[data[\"event\"].str.contains(\"remov\", case = False), \"event\"] = \"REMOVE_FROM_CART\" #group remove events\n",
    "data.loc[data[\"event\"].str.contains(\"compare\", case = False), \"event\"] = \"COMPARE_PRODUCTS\" #group compare events\n",
    "data.loc[data[\"event\"].str.contains(\"add\", case = False), \"event\"] = \"ADD_TO_CART\" #group add events\n",
    "data.loc[data[\"event\"].str.contains(\"download\", case = False), \"event\"] = \"DOWNLOAD\" #group download events\n",
    "\n"
   ]
  },
  {
   "cell_type": "code",
   "execution_count": 110,
   "metadata": {},
   "outputs": [],
   "source": [
    "page_categories = {\n",
    "        \"SERVICE\" : [\"retour-aanvragen\", \"service-verzoekformulier\", \"customer-service\", \"services\", \"service\", \n",
    "                \"webshop-retouraanvraag\", \"contacts\", \"contact\", \"thank-you-retour\"],\n",
    "\n",
    "        \"LEGAL\" : [\"verkoopsvoorwaarden-algemeen\", \"algemene-verkoopsvoorwaarden\", \"faq\", \"privacy-policy\", \n",
    "                \"algemene-verkoopsvoorwaarden-particulier\", \"cookie-policy\", \"conditions-de-vente\", \n",
    "                \"conditions-de-vente-generales\", \"conditions-de-vente-generales-entreprise\",\n",
    "                \"algemene-verkoopsvoorwaarden-aankoop-als-onderneming\", \n",
    "                \"conditions-de-vente-generales-consommateurs\"],\n",
    "\n",
    "        \"PROMOTION\" : [\"promoties\", \"promotions\", \"bean-to-cup-gratis-cadeaubox\", \"lotus\"],\n",
    "\n",
    "        \"COMPARISON\" : [\"producten-vergelijken\", \"comparaison-de-produits\"],\n",
    "\n",
    "        \"COMPANY\" : [\"het-bedrijf\", \"entreprise\", \"Het-bedrijf\"],\n",
    "\n",
    "        \"NEWS\" : [\"nieuws\", \"actualites\", \"newsletter\"],\n",
    "\n",
    "        \"SEARCH\" : [\"zoekfunctie\", \"search\"],\n",
    "\n",
    "        \"ACCOUNT\" : [\"activate\", \"my-account\", \"register\", \"forgot-password\"],\n",
    "\n",
    "        \"JOBS\" : [\"jobs_product-manager\", \"jobs-chauffeur\", \"jobs_customer_service_medewerker\", \n",
    "                \"jobs-key-account-manager\", \"jobs-account-manager\"],\n",
    "\n",
    "        \"SHOWROOM\" : [\"showroom-bezoek\", \"store-locator\", \"stores\", \"bezoek-showroom\", \n",
    "                \"showroom-visiteurs\", \"inplannen-showroom-bezoek\"],\n",
    "\n",
    "        \"INFO\" : [\"info\", \"3dbestanden\", \"smeg-connect\", \"livrerecettesfourvapeur\", \n",
    "                \"app-leefkeuken\", \"stoomkookboek\", \"smegconnect\", \"gebruiksaanwijzingen\", \n",
    "                \"telecharger-les-catalogues\"],\n",
    "\n",
    "        \"CHECKOUT\" : [\"bedankt\", \"merci\", \"wishlist\", \"cart\", \"checkout\"],\n",
    "\n",
    "        \"INSPIRATION\" : [\"inspiratie-artikels\", \"Designlijnen\", \"inspiratie\", \"designlijnen\", \n",
    "                \"inspiration\", \"inspirations\", \"vitality\", \"designlijn\", \n",
    "                \"designs\", \"design\", \"samenwerkingen\", \"collaborations\"],\n",
    "\n",
    "        \"ERROR\" : [\"pagenotfound\"]\n",
    "}\n",
    "\n",
    "\n",
    "data[\"page\"] = data[\"pagePath\"].str.rsplit(\"/\", expand=True)[2] \n",
    "data[\"pageExtra\"] = data[\"pagePath\"].str.rsplit(\"/\", expand=True)[3] \n",
    "data[\"page\"] = data[\"page\"].str.rsplit(\"?\", expand=True)[0] #delete parameters search\n",
    "data[\"page\"] = np.where(data[\"page\"].isin([\"service\", \"services\"]) & \n",
    "                        data[\"pageExtra\"].isin([\"gebruiksaanwijzingen\", \"telecharger-les-catalogues\"]), \n",
    "                         data[\"pageExtra\"], data[\"page\"])\n",
    "\n",
    "data[\"page_new\"] = np.nan\n",
    "for key, values in page_categories.items(): \n",
    "      data.loc[data[\"page\"].isin(values), \"page_new\"] = key\n",
    "\n",
    "data.loc[(data[\"page\"].notna() & data[\"page_new\"].isna()), \"page_new\"] = \"PRODUCT\"\n",
    "            "
   ]
  },
  {
   "cell_type": "code",
   "execution_count": 111,
   "metadata": {},
   "outputs": [],
   "source": [
    "data.loc[data[\"page\"].notna(), \"event\"] = data.loc[data[\"page\"].notna(), \"event\"] + \"_\" + data.loc[data[\"page\"].notna(), \"event\"]"
   ]
  },
  {
   "cell_type": "code",
   "execution_count": 105,
   "metadata": {},
   "outputs": [
    {
     "name": "stdout",
     "output_type": "stream",
     "text": [
      "Series([], Name: page, dtype: int64)\n"
     ]
    }
   ],
   "source": [
    "pd.options.display.max_rows = 4000\n",
    "print(data.loc[data[\"page_new\"].isna(), \"page\"].value_counts())"
   ]
  },
  {
   "cell_type": "code",
   "execution_count": 86,
   "metadata": {},
   "outputs": [],
   "source": [
    "pd.options.display.max_rows = 4000\n",
    "test = data[\"pagePath\"].str.rsplit(\"/\", expand=True)[3]"
   ]
  },
  {
   "cell_type": "code",
   "execution_count": 72,
   "metadata": {},
   "outputs": [
    {
     "name": "stdout",
     "output_type": "stream",
     "text": [
      "LOAD_NEW_PAGE                  36788\n",
      "video_progress                 20230\n",
      "DETAILS_VIEW                   15945\n",
      "video_start                     8770\n",
      "video_complete                  6215\n",
      "product page visualization      2762\n",
      "CLICK                            869\n",
      "click on a product               842\n",
      "INTERNAL_SEARCH                  589\n",
      "ADD_TO_CART                      380\n",
      "FILTER_BY                        360\n",
      "COMPARE_PRODUCTS                 112\n",
      "DOWNLOAD                          76\n",
      "click on internal promotion       50\n",
      "CHECKOUT                          49\n",
      "REMOVE_FROM_CART                  40\n",
      "step2 view                        17\n",
      "click on phone number             16\n",
      "step1 option                      15\n",
      "step1 view                        11\n",
      "login                             10\n",
      "account registration               7\n",
      "PAYMENT                            5\n",
      "successful order                   5\n",
      "step2 option                       5\n",
      "Name: event, dtype: int64\n"
     ]
    }
   ],
   "source": [
    "pd.options.display.max_rows = 4000\n",
    "print(data[\"event\"].value_counts())"
   ]
  },
  {
   "cell_type": "code",
   "execution_count": 91,
   "metadata": {},
   "outputs": [
    {
     "name": "stdout",
     "output_type": "stream",
     "text": [
      "product                                                 6359\n",
      "produits                                                3207\n",
      "customer-service                                        2458\n",
      "promoties                                               1897\n",
      "info                                                    1300\n",
      "zoekfunctie                                             1094\n",
      "sda-koffiemachines                                      1052\n",
      "nieuws                                                   899\n",
      "koelkasten                                               867\n",
      "promotions                                               741\n",
      "fornuizen                                                665\n",
      "ovens                                                    605\n",
      "products                                                 564\n",
      "refrigerateurs                                           514\n",
      "kookplaten                                               489\n",
      "actualites                                               412\n",
      "faq                                                      403\n",
      "fours                                                    366\n",
      "search                                                   366\n",
      "cuisinieres                                              362\n",
      "machines-a-cafe-sda                                      349\n",
      "lotus                                                    343\n",
      "tables-de-cuisson                                        326\n",
      "broodroosters                                            312\n",
      "toasters                                                 294\n",
      "kookgerei                                                285\n",
      "dampkappen                                               280\n",
      "keukenrobots                                             276\n",
      "microgolfovens                                           260\n",
      "contacts                                                 256\n",
      "waterkokers                                              255\n",
      "kleine-keukentoestellen                                  249\n",
      "koffiemolen                                              240\n",
      "contact                                                  230\n",
      "ustensiles-de-cuisson                                    183\n",
      "store-locator                                            181\n",
      "bouilloires                                              176\n",
      "hottes                                                   173\n",
      "blenders                                                 167\n",
      "vaatwassers                                              161\n",
      "designlijnen                                             154\n",
      "showroom-bezoek                                          127\n",
      "accessoires                                              126\n",
      "spoelbakken                                              116\n",
      "grote-keukentoestellen                                   113\n",
      "petit-electromenager                                     109\n",
      "inspiratie-artikels                                      106\n",
      "la-pavoni                                                106\n",
      "designlijn                                               105\n",
      "bedankt                                                  105\n",
      "lave-vaisselle                                           103\n",
      "sda-accessoires                                           99\n",
      "producten-vergelijken                                     92\n",
      "fours-micro-ondes                                         89\n",
      "cart                                                      83\n",
      "melkopschuimer                                            76\n",
      "diepvriezers                                              74\n",
      "hand-mixer                                                73\n",
      "het-bedrijf                                               73\n",
      "robots-sur-socle                                          72\n",
      "caves-a-vin                                               64\n",
      "mixeurs-plongeants                                        63\n",
      "citruspersen                                              63\n",
      "checkout                                                  60\n",
      "handblenders                                              59\n",
      "gros-electromenager                                       58\n",
      "presse-fruits                                             56\n",
      "comparaison-de-produits                                   54\n",
      "samenwerkingen                                            52\n",
      "collaborations                                            52\n",
      "wijnklimaatkasten                                         52\n",
      "inspiratie                                                48\n",
      "stores                                                    44\n",
      "stoomovens                                                43\n",
      "wasmachines-en-droogkasten                                42\n",
      "newsletter                                                41\n",
      "kranen                                                    41\n",
      "wishlist                                                  39\n",
      "entreprise                                                37\n",
      "machines-a-cafe-automatiques-bean-to-cup                  37\n",
      "eviers                                                    36\n",
      "inspirations                                              35\n",
      "designs                                                   35\n",
      "Het-bedrijf                                               33\n",
      "merci                                                     33\n",
      "mousseur-a-lait                                           31\n",
      "slow-juicers                                              30\n",
      "lades                                                     29\n",
      "smeg-connect                                              29\n",
      "fours-vapeur                                              29\n",
      "activate                                                  28\n",
      "my-account                                                27\n",
      "mitigeurs                                                 27\n",
      "coca-cola-unity                                           27\n",
      "tiroirs                                                   25\n",
      "design                                                    25\n",
      "moulin-a-cafe                                             24\n",
      "congelateurs                                              24\n",
      "extracteurs-de-jus                                        23\n",
      "inspiration                                               23\n",
      "koffiemachines                                            23\n",
      "special-products                                          23\n",
      "bean-to-cup-automatische-koffiemachines                   22\n",
      "special-edition                                           21\n",
      "machines-a-cafe-encastrables                              16\n",
      "register                                                  16\n",
      "services                                                  15\n",
      "jobs_product-manager                                      15\n",
      "cellule-de-refroidissement                                14\n",
      "lave-linges-et-lavantes-sechantes                         13\n",
      "Designlijnen                                              12\n",
      "jobs-chauffeur                                            12\n",
      "privacy-policy                                            10\n",
      "jobs_customer_service_medewerker                           8\n",
      "algemene-verkoopsvoorwaarden                               6\n",
      "verkoopsvoorwaarden-algemeen                               6\n",
      "seche-linges                                               6\n",
      "workshop-la-pavoni                                         5\n",
      "retour-aanvragen                                           4\n",
      "app-leefkeuken                                             4\n",
      "service-verzoekformulier                                   4\n",
      "livrerecettesfourvapeur                                    4\n",
      "vitality                                                   4\n",
      "blast-chiller                                              4\n",
      "bezoek-showroom                                            4\n",
      "bean-to-cup-gratis-cadeaubox                               4\n",
      "webshop-retouraanvraag                                     3\n",
      "algemene-verkoopsvoorwaarden-particulier                   3\n",
      "jobs-account-manager                                       3\n",
      "jobs-key-account-manager                                   3\n",
      "tritan-renew                                               2\n",
      "cookie-policy                                              2\n",
      "smegconnect                                                2\n",
      "conditions-de-vente-generales-consommateurs                2\n",
      "showroom-visiteurs                                         2\n",
      "dryers                                                     2\n",
      "inplannen-showroom-bezoek                                  2\n",
      "service                                                    2\n",
      "stoomkookboek                                              2\n",
      "cr325apzdoduits                                            2\n",
      "conditions-de-vente                                        1\n",
      "atelier-la-pavoni                                          1\n",
      "PRODUCT                                                    1\n",
      "conditions-de-vente-generales-entreprise                   1\n",
      "telecharger-les-catalogues                                 1\n",
      "pagenotfound                                               1\n",
      "small-appliances                                           1\n",
      "thank-you-retour                                           1\n",
      "conditions-de-vente-generales                              1\n",
      "algemene-verkoopsvoorwaarden-aankoop-als-onderneming       1\n",
      "forgot-password                                            1\n",
      "gebruiksaanwijzingen                                       1\n",
      "smeg-world                                                 1\n",
      "Name: page, dtype: int64\n"
     ]
    }
   ],
   "source": [
    "print(data[\"page\"].value_counts())"
   ]
  },
  {
   "attachments": {},
   "cell_type": "markdown",
   "metadata": {},
   "source": [
    "productSku, pagina interesse, channelGrouping, platform, deviceCategory as filters "
   ]
  },
  {
   "cell_type": "code",
   "execution_count": null,
   "metadata": {},
   "outputs": [],
   "source": [
    "net, initial_marking, final_marking = pm4py.discover_petri_net_alpha_plus(data)\n",
    "pm4py.write_petri_net(net, initial_marking, final_marking, \"petri_net.pnml\")\n",
    "pm4py.save_vis_petri_net(net, initial_marking, final_marking, \"petri_net.png\")"
   ]
  },
  {
   "cell_type": "code",
   "execution_count": null,
   "metadata": {},
   "outputs": [],
   "source": [
    "pm4py.write_xes(data, \"../../data/processed/data_preprocessed.xes\")"
   ]
  },
  {
   "cell_type": "markdown",
   "metadata": {},
   "source": []
  }
 ],
 "metadata": {
  "kernelspec": {
   "display_name": "ALGO-Smeg-tpBFOsly",
   "language": "python",
   "name": "python3"
  },
  "language_info": {
   "codemirror_mode": {
    "name": "ipython",
    "version": 3
   },
   "file_extension": ".py",
   "mimetype": "text/x-python",
   "name": "python",
   "nbconvert_exporter": "python",
   "pygments_lexer": "ipython3",
   "version": "3.9.12"
  },
  "orig_nbformat": 4,
  "vscode": {
   "interpreter": {
    "hash": "3569d9319d40d2d1bd605b9620fcac844ff48084aa849be778998b6587c3220a"
   }
  }
 },
 "nbformat": 4,
 "nbformat_minor": 2
}
